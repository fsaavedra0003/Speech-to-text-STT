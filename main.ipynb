{
 "cells": [
  {
   "cell_type": "code",
   "execution_count": null,
   "metadata": {},
   "outputs": [],
   "source": [
    "import whisper\n",
    "from pydub import AudioSegment\n",
    "import os\n",
    "\n",
    "def mp3_to_wav(mp3_path, wav_path):\n",
    "    audio = AudioSegment.from_mp3(mp3_path)\n",
    "    audio.export(wav_path, format=\"wav\")\n",
    "\n",
    "def transcribe_audio(file_path):\n",
    "    model = whisper.load_model(\"base\")  # or \"medium\", \"large\"\n",
    "    result = model.transcribe(file_path)\n",
    "    return result[\"text\"]\n",
    "\n",
    "if __name__ == \"__main__\":\n",
    "    mp3_path = \"audio_samples/example.mp3\"\n",
    "    wav_path = \"audio_samples/example.wav\"\n",
    "\n",
    "    mp3_to_wav(mp3_path, wav_path)\n",
    "    text = transcribe_audio(wav_path)\n",
    "\n",
    "    with open(\"transcriptions/example.txt\", \"w\") as f:\n",
    "        f.write(text)\n"
   ]
  }
 ],
 "metadata": {
  "language_info": {
   "name": "python"
  }
 },
 "nbformat": 4,
 "nbformat_minor": 2
}
